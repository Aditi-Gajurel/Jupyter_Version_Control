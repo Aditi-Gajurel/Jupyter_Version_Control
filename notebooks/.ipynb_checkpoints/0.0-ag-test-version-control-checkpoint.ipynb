{
 "cells": [
  {
   "cell_type": "code",
   "execution_count": null,
   "id": "compatible-weekend",
   "metadata": {},
   "outputs": [],
   "source": [
    "##Imports\n",
    "import numpy as np\n",
    "import pandas as pd\n",
    "import matplotlib as mpl\n",
    "from matplotlib import pyplot as plt"
   ]
  },
  {
   "cell_type": "code",
   "execution_count": null,
   "id": "verified-registrar",
   "metadata": {},
   "outputs": [],
   "source": [
    "n_points = 1000\n",
    "M = 4.0 #slope\n",
    "B = 10.0 #intercept\n",
    "X_MIN = 0.0\n",
    "X_MAX = 10.0\n",
    "\n",
    "# we are using a RandomState object to get the same random numbers each time\n",
    "random = np.random.RandomState(123)\n",
    "\n",
    "# create random x values\n",
    "X = random.uniform(low=X_MIN, high=X_MAX, size=n_points) \n",
    "\n",
    "# calculate y values along the line\n",
    "y = M * X + B\n",
    "\n",
    "# add random noise\n",
    "y += random.normal(loc=0.0, scale=5.0, size=y.shape)\n",
    "\n",
    "X_min, X_max = np.min(X), np.max(X)\n",
    "y_min, y_max = np.min(y), np.max(y)\n",
    "xlim = np.asarray((X_min - 0.05*(X_max-X_min), X_max + 0.05*(X_max-X_min)))\n",
    "ylim = np.asarray((y_min - 0.05*(y_max-y_min), y_max + 0.05*(y_max-y_min)))\n",
    "\n",
    "# visualize data\n",
    "fig,ax = plt.subplots(figsize=(7,5))\n",
    "ax.scatter(X, y, color=\"blue\", marker=\".\")\n",
    "ax.set_xlim(xlim)\n",
    "ax.set_ylim(ylim)\n",
    "ax.set_ylabel(\"y\")\n",
    "ax.set_xlabel(\"x\")\n",
    "ax.set_title(\"Synthetic Data in Blue Color\")\n",
    "plt.show()"
   ]
  },
  {
   "cell_type": "code",
   "execution_count": null,
   "id": "sitting-omaha",
   "metadata": {},
   "outputs": [],
   "source": [
    "np.random.seed(19680801)\n",
    "data = np.random.randn(2, 100)\n",
    "\n",
    "fig, axs = plt.subplots(2, 2, figsize=(5, 5))\n",
    "axs[0, 0].hist(data[0])\n",
    "axs[1, 0].scatter(data[0], data[1])\n",
    "axs[0, 1].plot(data[0], data[1])\n",
    "axs[1, 1].hist2d(data[0], data[1])\n",
    "\n",
    "plt.show()"
   ]
  }
 ],
 "metadata": {
  "kernelspec": {
   "display_name": "Python 3",
   "language": "python",
   "name": "python3"
  },
  "language_info": {
   "codemirror_mode": {
    "name": "ipython",
    "version": 3
   },
   "file_extension": ".py",
   "mimetype": "text/x-python",
   "name": "python",
   "nbconvert_exporter": "python",
   "pygments_lexer": "ipython3",
   "version": "3.7.9"
  },
  "neptune": {
   "notebookId": "589314b4-ce7d-4e97-b770-425688f6956e"
  }
 },
 "nbformat": 4,
 "nbformat_minor": 5
}
